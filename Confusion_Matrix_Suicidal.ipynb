{
  "nbformat": 4,
  "nbformat_minor": 0,
  "metadata": {
    "colab": {
      "name": "Confusion_Matrix_Suicidal.ipynb",
      "provenance": [],
      "authorship_tag": "ABX9TyMdLF24LFBGhF9h/Gg7iFZc",
      "include_colab_link": true
    },
    "kernelspec": {
      "name": "python3",
      "display_name": "Python 3"
    },
    "language_info": {
      "name": "python"
    }
  },
  "cells": [
    {
      "cell_type": "markdown",
      "metadata": {
        "id": "view-in-github",
        "colab_type": "text"
      },
      "source": [
        "<a href=\"https://colab.research.google.com/github/Vj-Ydv/Suicidal_sentiment_analysis/blob/main/Confusion_Matrix_Suicidal.ipynb\" target=\"_parent\"><img src=\"https://colab.research.google.com/assets/colab-badge.svg\" alt=\"Open In Colab\"/></a>"
      ]
    },
    {
      "cell_type": "code",
      "execution_count": null,
      "metadata": {
        "colab": {
          "base_uri": "https://localhost:8080/"
        },
        "id": "g1v3kEcUzf-B",
        "outputId": "62b72d65-17ab-4b71-c0b6-26c380db6614"
      },
      "outputs": [
        {
          "output_type": "stream",
          "name": "stdout",
          "text": [
            "\u001b[K     |████████████████████████████████| 366 kB 4.2 MB/s \n",
            "\u001b[K     |████████████████████████████████| 18.5 MB 2.1 MB/s \n",
            "\u001b[31mERROR: pip's dependency resolver does not currently take into account all the packages that are installed. This behaviour is the source of the following dependency conflicts.\n",
            "panel 0.12.1 requires bokeh<2.4.0,>=2.3.0, but you have bokeh 2.4.2 which is incompatible.\u001b[0m\n",
            "\u001b[?25hRequirement already satisfied: textblob in /usr/local/lib/python3.7/dist-packages (0.15.3)\n",
            "Requirement already satisfied: nltk>=3.1 in /usr/local/lib/python3.7/dist-packages (from textblob) (3.2.5)\n",
            "Requirement already satisfied: six in /usr/local/lib/python3.7/dist-packages (from nltk>=3.1->textblob) (1.15.0)\n",
            "Requirement already satisfied: sklearn in /usr/local/lib/python3.7/dist-packages (0.0)\n",
            "Requirement already satisfied: scikit-learn in /usr/local/lib/python3.7/dist-packages (from sklearn) (1.0.2)\n",
            "Requirement already satisfied: numpy>=1.14.6 in /usr/local/lib/python3.7/dist-packages (from scikit-learn->sklearn) (1.19.5)\n",
            "Requirement already satisfied: threadpoolctl>=2.0.0 in /usr/local/lib/python3.7/dist-packages (from scikit-learn->sklearn) (3.1.0)\n",
            "Requirement already satisfied: joblib>=0.11 in /usr/local/lib/python3.7/dist-packages (from scikit-learn->sklearn) (1.1.0)\n",
            "Requirement already satisfied: scipy>=1.1.0 in /usr/local/lib/python3.7/dist-packages (from scikit-learn->sklearn) (1.4.1)\n"
          ]
        }
      ],
      "source": [
        "# This cell connects to google drive, authenticates connection, and iterates over file list displaying each file's title and ID.\n",
        "# it also imports and installs all the necessary libraries\n",
        "!pip install -U -q PyDrive\n",
        "!pip install -U -q wordcloud\n",
        "!pip install -U -q bokeh\n",
        "!pip install textblob\n",
        "!pip install sklearn\n",
        "\n",
        "import pandas as pd\n",
        "import numpy as np\n",
        "import re\n",
        "import matplotlib.pyplot as plt\n",
        "import seaborn as sns\n",
        "\n",
        "from bs4 import BeautifulSoup\n",
        "\n",
        "from wordcloud import WordCloud\n",
        "from scipy.stats import hmean\n",
        "from scipy.stats import norm\n",
        "from pylab import *\n",
        "from bokeh.plotting import figure\n",
        "from bokeh.io import output_notebook, show\n",
        "from bokeh.models import LinearColorMapper\n",
        "from bokeh.models import HoverTool\n",
        "\n",
        "from sklearn.feature_extraction.text import TfidfVectorizer\n",
        "from sklearn.feature_extraction.text import CountVectorizer\n",
        "from sklearn.linear_model import LogisticRegression\n",
        "from sklearn.pipeline import Pipeline\n",
        "\n",
        "from textblob import TextBlob\n",
        "from sklearn.model_selection import train_test_split\n",
        "from sklearn.metrics import accuracy_score\n",
        "from sklearn.metrics import classification_report, confusion_matrix\n",
        "from sklearn.pipeline import Pipeline\n",
        "from sklearn.metrics import accuracy_score\n",
        "\n",
        "from time import time\n",
        "\n",
        "  "
      ]
    },
    {
      "cell_type": "code",
      "source": [
        "from google.colab import drive\n",
        "drive.mount('/content/drive/')"
      ],
      "metadata": {
        "colab": {
          "base_uri": "https://localhost:8080/"
        },
        "id": "ARNrSNTm0n1x",
        "outputId": "e94b6ab5-f310-4b03-88ed-2591421c1faa"
      },
      "execution_count": null,
      "outputs": [
        {
          "output_type": "stream",
          "name": "stdout",
          "text": [
            "Mounted at /content/drive/\n"
          ]
        }
      ]
    },
    {
      "cell_type": "code",
      "source": [
        "%cd /content/drive/My Drive/Colab Notebooks/"
      ],
      "metadata": {
        "colab": {
          "base_uri": "https://localhost:8080/"
        },
        "id": "09i0qcg70n4e",
        "outputId": "b8a408f6-8697-4281-e586-047f3b617cfb"
      },
      "execution_count": null,
      "outputs": [
        {
          "output_type": "stream",
          "name": "stdout",
          "text": [
            "/content/drive/My Drive/Colab Notebooks\n"
          ]
        }
      ]
    },
    {
      "cell_type": "code",
      "source": [
        "# upload file into pandas dataframe and drop unnecessary columns and neutral rows\n",
        "\n",
        "# Using columns 1,2 because col 0 is the number of the row, could be changed if the row number is removed from the csv file.\n",
        "df_clean = pd.read_csv('Dataset_For_Project/clean_Tweets_suicidal.csv', usecols = [0,1], encoding='latin-1')\n",
        "df_clean.head()"
      ],
      "metadata": {
        "colab": {
          "base_uri": "https://localhost:8080/",
          "height": 206
        },
        "id": "Oa4Uwg5B0n69",
        "outputId": "c9c8bdff-0821-494e-fc49-52431594a88b"
      },
      "execution_count": null,
      "outputs": [
        {
          "output_type": "execute_result",
          "data": {
            "text/html": [
              "\n",
              "  <div id=\"df-c6759194-7981-44e8-afa0-a6648af2bb30\">\n",
              "    <div class=\"colab-df-container\">\n",
              "      <div>\n",
              "<style scoped>\n",
              "    .dataframe tbody tr th:only-of-type {\n",
              "        vertical-align: middle;\n",
              "    }\n",
              "\n",
              "    .dataframe tbody tr th {\n",
              "        vertical-align: top;\n",
              "    }\n",
              "\n",
              "    .dataframe thead th {\n",
              "        text-align: right;\n",
              "    }\n",
              "</style>\n",
              "<table border=\"1\" class=\"dataframe\">\n",
              "  <thead>\n",
              "    <tr style=\"text-align: right;\">\n",
              "      <th></th>\n",
              "      <th>text</th>\n",
              "      <th>target</th>\n",
              "    </tr>\n",
              "  </thead>\n",
              "  <tbody>\n",
              "    <tr>\n",
              "      <th>0</th>\n",
              "      <td>yo assignment can you finish by yourself i wan...</td>\n",
              "      <td>Negative</td>\n",
              "    </tr>\n",
              "    <tr>\n",
              "      <th>1</th>\n",
              "      <td>lee su-hyeok iss .. btw  i'm just in ep  kahdk...</td>\n",
              "      <td>Negative</td>\n",
              "    </tr>\n",
              "    <tr>\n",
              "      <th>2</th>\n",
              "      <td>on one hand, i want to finish what i started i...</td>\n",
              "      <td>Negative</td>\n",
              "    </tr>\n",
              "    <tr>\n",
              "      <th>3</th>\n",
              "      <td>i want to finish this so badly but her coat ia...</td>\n",
              "      <td>Negative</td>\n",
              "    </tr>\n",
              "    <tr>\n",
              "      <th>4</th>\n",
              "      <td>me trying to finish the drawing for my sister ...</td>\n",
              "      <td>Negative</td>\n",
              "    </tr>\n",
              "  </tbody>\n",
              "</table>\n",
              "</div>\n",
              "      <button class=\"colab-df-convert\" onclick=\"convertToInteractive('df-c6759194-7981-44e8-afa0-a6648af2bb30')\"\n",
              "              title=\"Convert this dataframe to an interactive table.\"\n",
              "              style=\"display:none;\">\n",
              "        \n",
              "  <svg xmlns=\"http://www.w3.org/2000/svg\" height=\"24px\"viewBox=\"0 0 24 24\"\n",
              "       width=\"24px\">\n",
              "    <path d=\"M0 0h24v24H0V0z\" fill=\"none\"/>\n",
              "    <path d=\"M18.56 5.44l.94 2.06.94-2.06 2.06-.94-2.06-.94-.94-2.06-.94 2.06-2.06.94zm-11 1L8.5 8.5l.94-2.06 2.06-.94-2.06-.94L8.5 2.5l-.94 2.06-2.06.94zm10 10l.94 2.06.94-2.06 2.06-.94-2.06-.94-.94-2.06-.94 2.06-2.06.94z\"/><path d=\"M17.41 7.96l-1.37-1.37c-.4-.4-.92-.59-1.43-.59-.52 0-1.04.2-1.43.59L10.3 9.45l-7.72 7.72c-.78.78-.78 2.05 0 2.83L4 21.41c.39.39.9.59 1.41.59.51 0 1.02-.2 1.41-.59l7.78-7.78 2.81-2.81c.8-.78.8-2.07 0-2.86zM5.41 20L4 18.59l7.72-7.72 1.47 1.35L5.41 20z\"/>\n",
              "  </svg>\n",
              "      </button>\n",
              "      \n",
              "  <style>\n",
              "    .colab-df-container {\n",
              "      display:flex;\n",
              "      flex-wrap:wrap;\n",
              "      gap: 12px;\n",
              "    }\n",
              "\n",
              "    .colab-df-convert {\n",
              "      background-color: #E8F0FE;\n",
              "      border: none;\n",
              "      border-radius: 50%;\n",
              "      cursor: pointer;\n",
              "      display: none;\n",
              "      fill: #1967D2;\n",
              "      height: 32px;\n",
              "      padding: 0 0 0 0;\n",
              "      width: 32px;\n",
              "    }\n",
              "\n",
              "    .colab-df-convert:hover {\n",
              "      background-color: #E2EBFA;\n",
              "      box-shadow: 0px 1px 2px rgba(60, 64, 67, 0.3), 0px 1px 3px 1px rgba(60, 64, 67, 0.15);\n",
              "      fill: #174EA6;\n",
              "    }\n",
              "\n",
              "    [theme=dark] .colab-df-convert {\n",
              "      background-color: #3B4455;\n",
              "      fill: #D2E3FC;\n",
              "    }\n",
              "\n",
              "    [theme=dark] .colab-df-convert:hover {\n",
              "      background-color: #434B5C;\n",
              "      box-shadow: 0px 1px 3px 1px rgba(0, 0, 0, 0.15);\n",
              "      filter: drop-shadow(0px 1px 2px rgba(0, 0, 0, 0.3));\n",
              "      fill: #FFFFFF;\n",
              "    }\n",
              "  </style>\n",
              "\n",
              "      <script>\n",
              "        const buttonEl =\n",
              "          document.querySelector('#df-c6759194-7981-44e8-afa0-a6648af2bb30 button.colab-df-convert');\n",
              "        buttonEl.style.display =\n",
              "          google.colab.kernel.accessAllowed ? 'block' : 'none';\n",
              "\n",
              "        async function convertToInteractive(key) {\n",
              "          const element = document.querySelector('#df-c6759194-7981-44e8-afa0-a6648af2bb30');\n",
              "          const dataTable =\n",
              "            await google.colab.kernel.invokeFunction('convertToInteractive',\n",
              "                                                     [key], {});\n",
              "          if (!dataTable) return;\n",
              "\n",
              "          const docLinkHtml = 'Like what you see? Visit the ' +\n",
              "            '<a target=\"_blank\" href=https://colab.research.google.com/notebooks/data_table.ipynb>data table notebook</a>'\n",
              "            + ' to learn more about interactive tables.';\n",
              "          element.innerHTML = '';\n",
              "          dataTable['output_type'] = 'display_data';\n",
              "          await google.colab.output.renderOutput(dataTable, element);\n",
              "          const docLink = document.createElement('div');\n",
              "          docLink.innerHTML = docLinkHtml;\n",
              "          element.appendChild(docLink);\n",
              "        }\n",
              "      </script>\n",
              "    </div>\n",
              "  </div>\n",
              "  "
            ],
            "text/plain": [
              "                                                text    target\n",
              "0  yo assignment can you finish by yourself i wan...  Negative\n",
              "1  lee su-hyeok iss .. btw  i'm just in ep  kahdk...  Negative\n",
              "2  on one hand, i want to finish what i started i...  Negative\n",
              "3  i want to finish this so badly but her coat ia...  Negative\n",
              "4  me trying to finish the drawing for my sister ...  Negative"
            ]
          },
          "metadata": {},
          "execution_count": 18
        }
      ]
    },
    {
      "cell_type": "code",
      "source": [
        "from sklearn.model_selection import train_test_split\n",
        "train, test = train_test_split(df_clean)"
      ],
      "metadata": {
        "id": "cokLIUDQ2May"
      },
      "execution_count": null,
      "outputs": []
    },
    {
      "cell_type": "code",
      "source": [
        "print(train.shape)\n",
        "#print(test.shape)"
      ],
      "metadata": {
        "colab": {
          "base_uri": "https://localhost:8080/"
        },
        "id": "cGXKtEPGHgwb",
        "outputId": "55a398e3-6504-44b9-f360-d20eec580443"
      },
      "execution_count": null,
      "outputs": [
        {
          "output_type": "stream",
          "name": "stdout",
          "text": [
            "(18051, 2)\n"
          ]
        }
      ]
    },
    {
      "cell_type": "code",
      "source": [
        "from sklearn.preprocessing import LabelEncoder\n",
        "labelencoder = LabelEncoder()\n",
        "train['target'] = labelencoder.fit_transform(train['target'])\n",
        "test['target'] = labelencoder.fit_transform(test['target'])"
      ],
      "metadata": {
        "id": "WQvjatYf2MeH"
      },
      "execution_count": null,
      "outputs": []
    },
    {
      "cell_type": "markdown",
      "source": [
        "# **Word Embedding Techniques**"
      ],
      "metadata": {
        "id": "ZgZp5o3KFPXK"
      }
    },
    {
      "cell_type": "code",
      "source": [
        "# 1 Bag of words\n",
        "from sklearn.feature_extraction.text import CountVectorizer\n",
        "cv = CountVectorizer(binary=True)\n",
        "cv.fit(train)\n",
        "X_train_bow = cv.fit_transform(train['text'])\n",
        "X_test_bow = train['target']\n",
        "Y_train_bow = cv.transform(test['text'])\n",
        "Y_test = test['target']"
      ],
      "metadata": {
        "id": "Oq_p7V1V0n9o"
      },
      "execution_count": null,
      "outputs": []
    },
    {
      "cell_type": "code",
      "source": [
        "# 2 TF-IDF\n",
        "from sklearn.feature_extraction.text import TfidfVectorizer\n",
        "vectorizer = TfidfVectorizer(norm = None)\n",
        "vectorizer.fit(train)\n",
        "X_train_tfidf = vectorizer.fit_transform(train['text'])\n",
        "X_test_tfidf = train['target']\n",
        "Y_train_tdidf =vectorizer.transform(test['text'])"
      ],
      "metadata": {
        "id": "kCPiCsvR0oAs"
      },
      "execution_count": null,
      "outputs": []
    },
    {
      "cell_type": "code",
      "source": [
        "# 3 Hashing\n",
        "from sklearn.feature_extraction.text import HashingVectorizer\n",
        "hv = HashingVectorizer()\n",
        "hv.fit(train)\n",
        "X_train_hash = hv.fit_transform(train['text'])\n",
        "X_test_hash = train['target']\n",
        "Y_train_hash = hv.transform(test['text'])"
      ],
      "metadata": {
        "id": "WAbaB53L0oDR"
      },
      "execution_count": null,
      "outputs": []
    },
    {
      "cell_type": "markdown",
      "source": [
        "# **Accuracy calculation of various models using various word embedding techniques**"
      ],
      "metadata": {
        "id": "QL-FO7q6FchT"
      }
    },
    {
      "cell_type": "code",
      "source": [
        "from sklearn.model_selection import cross_val_score\n"
      ],
      "metadata": {
        "id": "9_cyrBiD45T7"
      },
      "execution_count": null,
      "outputs": []
    },
    {
      "cell_type": "code",
      "source": [
        "# Rigde with bag of word\n",
        "from sklearn import linear_model\n",
        "alpha = [80.0, 90.0, 100.0, 110.0, 120.0]\n",
        "for a in alpha:\n",
        "    ridge = linear_model.RidgeClassifier(a)\n",
        "    scores = cross_val_score(ridge, X_train_bow, X_test_bow, cv=5, scoring='f1')\n",
        "    print(\"alpha: \",a)\n",
        "    print(scores)\n",
        "    print(np.mean(scores))\n",
        "    print('\\n')"
      ],
      "metadata": {
        "colab": {
          "base_uri": "https://localhost:8080/"
        },
        "id": "DjcsNgj30oFb",
        "outputId": "58a3e15b-597d-4a70-ab3c-b0870218caf8"
      },
      "execution_count": null,
      "outputs": [
        {
          "output_type": "stream",
          "name": "stdout",
          "text": [
            "alpha:  80.0\n",
            "[0.85580247 0.85749568 0.85813492 0.85064293 0.85770556]\n",
            "0.8559563118543702\n",
            "\n",
            "\n",
            "alpha:  90.0\n",
            "[0.85488648 0.85686081 0.85707208 0.85016045 0.85756458]\n",
            "0.8553088796751858\n",
            "\n",
            "\n",
            "alpha:  100.0\n",
            "[0.85425401 0.85636723 0.85622371 0.84848485 0.85587801]\n",
            "0.8542415603473051\n",
            "\n",
            "\n",
            "alpha:  110.0\n",
            "[0.85326757 0.85566247 0.85403803 0.84778325 0.85307125]\n",
            "0.8527645163056352\n",
            "\n",
            "\n",
            "alpha:  120.0\n",
            "[0.8530572  0.85566247 0.85212661 0.84653222 0.85272459]\n",
            "0.8520206184324817\n",
            "\n",
            "\n"
          ]
        }
      ]
    },
    {
      "cell_type": "code",
      "source": [
        "# MultinomialNB with bag of word\n",
        "from sklearn.naive_bayes import MultinomialNB\n",
        "alpha = [1e-10, 1e-5, 0.1, 1.0, 2.0, 5.0]\n",
        "for a in alpha:\n",
        "    mnb = MultinomialNB()\n",
        "    scores = cross_val_score(mnb, X_train_bow, X_test_bow, cv=5, scoring='f1')\n",
        "    print('alpha: ', a)\n",
        "    print(scores)\n",
        "    print(np.mean(scores))\n",
        "    print('\\n')"
      ],
      "metadata": {
        "colab": {
          "base_uri": "https://localhost:8080/"
        },
        "id": "D6EGhvYm0oIF",
        "outputId": "2eef342f-18bb-4154-b75d-5ceb82f1b35a"
      },
      "execution_count": null,
      "outputs": [
        {
          "output_type": "stream",
          "name": "stdout",
          "text": [
            "alpha:  1e-10\n",
            "[0.79476744 0.78796903 0.78867362 0.80106257 0.78773723]\n",
            "0.7920419785144458\n",
            "\n",
            "\n",
            "alpha:  1e-05\n",
            "[0.79476744 0.78796903 0.78867362 0.80106257 0.78773723]\n",
            "0.7920419785144458\n",
            "\n",
            "\n",
            "alpha:  0.1\n",
            "[0.79476744 0.78796903 0.78867362 0.80106257 0.78773723]\n",
            "0.7920419785144458\n",
            "\n",
            "\n",
            "alpha:  1.0\n",
            "[0.79476744 0.78796903 0.78867362 0.80106257 0.78773723]\n",
            "0.7920419785144458\n",
            "\n",
            "\n",
            "alpha:  2.0\n",
            "[0.79476744 0.78796903 0.78867362 0.80106257 0.78773723]\n",
            "0.7920419785144458\n",
            "\n",
            "\n",
            "alpha:  5.0\n",
            "[0.79476744 0.78796903 0.78867362 0.80106257 0.78773723]\n",
            "0.7920419785144458\n",
            "\n",
            "\n"
          ]
        }
      ]
    },
    {
      "cell_type": "code",
      "source": [
        "# Rigde with TF-IDF\n",
        "alpha = [500.0, 1500.0, 2500.0, 3000.0]\n",
        "for a in alpha:\n",
        "    ridge = linear_model.RidgeClassifier(a)\n",
        "    scores = cross_val_score(ridge, X_train_tfidf, X_test_tfidf, cv=5, scoring='f1')\n",
        "    print(\"alpha: \",a)\n",
        "    print(scores)\n",
        "    print(np.mean(scores))\n",
        "    print('\\n')"
      ],
      "metadata": {
        "colab": {
          "base_uri": "https://localhost:8080/"
        },
        "id": "35I6JMNk0oKw",
        "outputId": "dff9d7bc-1f6b-46b3-ed51-26703b2d2071"
      },
      "execution_count": null,
      "outputs": [
        {
          "output_type": "stream",
          "name": "stdout",
          "text": [
            "alpha:  500.0\n",
            "[0.86190595 0.87352276 0.87597484 0.87061184 0.86910995]\n",
            "0.8702250657033668\n",
            "\n",
            "\n",
            "alpha:  1500.0\n",
            "[0.86052826 0.8677275  0.86846039 0.86309524 0.86208601]\n",
            "0.8643794801985585\n",
            "\n",
            "\n",
            "alpha:  2500.0\n",
            "[0.85833949 0.86590797 0.8655754  0.85643687 0.85672083]\n",
            "0.8605961099316352\n",
            "\n",
            "\n",
            "alpha:  3000.0\n",
            "[0.85665025 0.86194122 0.86428925 0.85671937 0.85552826]\n",
            "0.8590256683163888\n",
            "\n",
            "\n"
          ]
        }
      ]
    },
    {
      "cell_type": "code",
      "source": [
        "# MultinomialNB with TF-IDF\n",
        "alpha = [175.0, 200.0, 225.0, 250.0, 300.0]\n",
        "for a in alpha:\n",
        "    mnb = MultinomialNB()\n",
        "    scores = cross_val_score(mnb, X_train_tfidf, X_test_tfidf, cv=5, scoring='f1')\n",
        "    print('alpha: ', a)\n",
        "    print(scores)\n",
        "    print(np.mean(scores))\n",
        "    print('\\n')"
      ],
      "metadata": {
        "colab": {
          "base_uri": "https://localhost:8080/"
        },
        "id": "uJTQ9dJi0oNc",
        "outputId": "eddfe216-8f05-4227-ee50-18d8d16d510a"
      },
      "execution_count": null,
      "outputs": [
        {
          "output_type": "stream",
          "name": "stdout",
          "text": [
            "alpha:  175.0\n",
            "[0.7748307  0.76573427 0.75900439 0.76914153 0.76571429]\n",
            "0.7668850349863707\n",
            "\n",
            "\n",
            "alpha:  200.0\n",
            "[0.7748307  0.76573427 0.75900439 0.76914153 0.76571429]\n",
            "0.7668850349863707\n",
            "\n",
            "\n",
            "alpha:  225.0\n",
            "[0.7748307  0.76573427 0.75900439 0.76914153 0.76571429]\n",
            "0.7668850349863707\n",
            "\n",
            "\n",
            "alpha:  250.0\n",
            "[0.7748307  0.76573427 0.75900439 0.76914153 0.76571429]\n",
            "0.7668850349863707\n",
            "\n",
            "\n",
            "alpha:  300.0\n",
            "[0.7748307  0.76573427 0.75900439 0.76914153 0.76571429]\n",
            "0.7668850349863707\n",
            "\n",
            "\n"
          ]
        }
      ]
    },
    {
      "cell_type": "code",
      "source": [
        "# Rigde with Hash\n",
        "alpha = [1.1, 1.2, 1.3, 1.4, 1.5, 2.0]\n",
        "for a in alpha:\n",
        "    ridge = linear_model.RidgeClassifier(a)\n",
        "    scores = cross_val_score(ridge, X_train_hash, X_test_hash, cv=5, scoring='f1')\n",
        "    print(\"alpha: \",a)\n",
        "    print(scores)\n",
        "    print(np.mean(scores))\n",
        "    print('\\n')"
      ],
      "metadata": {
        "colab": {
          "base_uri": "https://localhost:8080/"
        },
        "id": "dIZMnx_J0oQg",
        "outputId": "ef7cdc73-65e2-4139-f0a6-107bf2f58e5a"
      },
      "execution_count": null,
      "outputs": [
        {
          "output_type": "stream",
          "name": "stdout",
          "text": [
            "alpha:  1.1\n",
            "[0.88543287 0.8908046  0.89184953 0.88079644 0.8798127 ]\n",
            "0.8857392252707449\n",
            "\n",
            "\n",
            "alpha:  1.2\n",
            "[0.88526289 0.88958496 0.89155997 0.88069074 0.88010403]\n",
            "0.8854405175421697\n",
            "\n",
            "\n",
            "alpha:  1.3\n",
            "[0.88411795 0.88865711 0.89132706 0.88029273 0.87821345]\n",
            "0.8845216611390974\n",
            "\n",
            "\n",
            "alpha:  1.4\n",
            "[0.88308329 0.88894682 0.88958496 0.88064769 0.87850467]\n",
            "0.8841534872352252\n",
            "\n",
            "\n",
            "alpha:  1.5\n",
            "[0.88217054 0.88825215 0.88900469 0.87937337 0.87827667]\n",
            "0.883415483450696\n",
            "\n",
            "\n",
            "alpha:  2.0\n",
            "[0.87967019 0.88300908 0.88744476 0.87714732 0.87798546]\n",
            "0.8810513621136902\n",
            "\n",
            "\n"
          ]
        }
      ]
    },
    {
      "cell_type": "markdown",
      "source": [
        "## **Accuracy calculation**"
      ],
      "metadata": {
        "id": "Q4dhXN-cF-aL"
      }
    },
    {
      "cell_type": "code",
      "source": [
        "from sklearn.metrics import accuracy_score\n",
        "ridge = linear_model.RidgeClassifier(1.2)\n",
        "ridge.fit(X_train_hash, X_test_hash)\n",
        "test['sentiment_pred'] = ridge.predict(Y_train_hash)\n",
        "y_true = test['target']\n",
        "y_pred = test['sentiment_pred']\n",
        "accuracy_score(y_true, y_pred)*100"
      ],
      "metadata": {
        "colab": {
          "base_uri": "https://localhost:8080/"
        },
        "id": "FE6KyuDk0oVP",
        "outputId": "a6d6a369-13ea-4164-9853-348834438200"
      },
      "execution_count": null,
      "outputs": [
        {
          "output_type": "execute_result",
          "data": {
            "text/plain": [
              "87.93619142572282"
            ]
          },
          "metadata": {},
          "execution_count": 47
        }
      ]
    },
    {
      "cell_type": "code",
      "source": [
        "from sklearn.metrics import classification_report,confusion_matrix \n",
        "print(classification_report(y_true, y_pred, target_names = ['Negative','Positive']))"
      ],
      "metadata": {
        "colab": {
          "base_uri": "https://localhost:8080/"
        },
        "id": "JYgHWTcg0oXu",
        "outputId": "823ed2e5-1e92-40d9-b6f2-20536824716d"
      },
      "execution_count": null,
      "outputs": [
        {
          "output_type": "stream",
          "name": "stdout",
          "text": [
            "              precision    recall  f1-score   support\n",
            "\n",
            "    Negative       0.89      0.86      0.87      2921\n",
            "    Positive       0.87      0.90      0.88      3097\n",
            "\n",
            "    accuracy                           0.88      6018\n",
            "   macro avg       0.88      0.88      0.88      6018\n",
            "weighted avg       0.88      0.88      0.88      6018\n",
            "\n"
          ]
        }
      ]
    },
    {
      "cell_type": "markdown",
      "source": [
        "## **Confusion matrix**"
      ],
      "metadata": {
        "id": "jc9pPFf8GGs5"
      }
    },
    {
      "cell_type": "code",
      "source": [
        "import seaborn as sns\n",
        "import matplotlib.pyplot as plt\n",
        "cm = confusion_matrix(y_true, y_pred)\n",
        "plt.figure(figsize = (8,5))\n",
        "sns.heatmap(cm,cmap= \"Blues\", \n",
        "            linecolor = 'black', \n",
        "            linewidth = 1, \n",
        "            annot = True, \n",
        "            fmt='', \n",
        "            xticklabels = ['Negative','Positive'], \n",
        "            yticklabels = ['Negative','Positive'])\n",
        "plt.xlabel(\"Predicted\")\n",
        "plt.ylabel(\"Actual\")"
      ],
      "metadata": {
        "colab": {
          "base_uri": "https://localhost:8080/",
          "height": 351
        },
        "id": "YYlMBRFM0oaU",
        "outputId": "d89f07f1-73fd-4b8a-b070-a3b6904d69dc"
      },
      "execution_count": null,
      "outputs": [
        {
          "output_type": "execute_result",
          "data": {
            "text/plain": [
              "Text(51.0, 0.5, 'Actual')"
            ]
          },
          "metadata": {},
          "execution_count": 52
        },
        {
          "output_type": "display_data",
          "data": {
            "image/png": "[encoded data removed]",
            "text/plain": [
              "<Figure size 576x360 with 2 Axes>"
            ]
          },
          "metadata": {
            "needs_background": "light"
          }
        }
      ]
    },
    {
      "cell_type": "code",
      "source": [
        ""
      ],
      "metadata": {
        "id": "FhnCuwSO0odg"
      },
      "execution_count": null,
      "outputs": []
    },
    {
      "cell_type": "code",
      "source": [
        ""
      ],
      "metadata": {
        "id": "9EKJcKU80of7"
      },
      "execution_count": null,
      "outputs": []
    },
    {
      "cell_type": "code",
      "source": [
        ""
      ],
      "metadata": {
        "id": "pp0CQP460oil"
      },
      "execution_count": null,
      "outputs": []
    },
    {
      "cell_type": "code",
      "source": [
        ""
      ],
      "metadata": {
        "id": "JZOAVUVB0omA"
      },
      "execution_count": null,
      "outputs": []
    }
  ]
}