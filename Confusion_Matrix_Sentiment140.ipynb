{
  "nbformat": 4,
  "nbformat_minor": 0,
  "metadata": {
    "colab": {
      "name": "Confusion_Matrix_Sentiment140.ipynb",
      "provenance": [],
      "authorship_tag": "ABX9TyOczuOXQJSQDkG8hkoN4PT7",
      "include_colab_link": true
    },
    "kernelspec": {
      "name": "python3",
      "display_name": "Python 3"
    },
    "language_info": {
      "name": "python"
    }
  },
  "cells": [
    {
      "cell_type": "markdown",
      "metadata": {
        "id": "view-in-github",
        "colab_type": "text"
      },
      "source": [
        "<a href=\"https://colab.research.google.com/github/Vj-Ydv/Suicidal_sentiment_analysis/blob/main/Confusion_Matrix_Sentiment140.ipynb\" target=\"_parent\"><img src=\"https://colab.research.google.com/assets/colab-badge.svg\" alt=\"Open In Colab\"/></a>"
      ]
    },
    {
      "cell_type": "code",
      "execution_count": 1,
      "metadata": {
        "colab": {
          "base_uri": "https://localhost:8080/"
        },
        "id": "g1v3kEcUzf-B",
        "outputId": "02f665f2-50e8-4438-9f24-5dfe6eceeef3"
      },
      "outputs": [
        {
          "output_type": "stream",
          "name": "stdout",
          "text": [
            "\u001b[K     |████████████████████████████████| 366 kB 23.2 MB/s \n",
            "\u001b[K     |████████████████████████████████| 18.5 MB 22.1 MB/s \n",
            "\u001b[31mERROR: pip's dependency resolver does not currently take into account all the packages that are installed. This behaviour is the source of the following dependency conflicts.\n",
            "panel 0.12.1 requires bokeh<2.4.0,>=2.3.0, but you have bokeh 2.4.2 which is incompatible.\u001b[0m\n",
            "\u001b[?25hRequirement already satisfied: textblob in /usr/local/lib/python3.7/dist-packages (0.15.3)\n",
            "Requirement already satisfied: nltk>=3.1 in /usr/local/lib/python3.7/dist-packages (from textblob) (3.2.5)\n",
            "Requirement already satisfied: six in /usr/local/lib/python3.7/dist-packages (from nltk>=3.1->textblob) (1.15.0)\n",
            "Requirement already satisfied: sklearn in /usr/local/lib/python3.7/dist-packages (0.0)\n",
            "Requirement already satisfied: scikit-learn in /usr/local/lib/python3.7/dist-packages (from sklearn) (1.0.2)\n",
            "Requirement already satisfied: threadpoolctl>=2.0.0 in /usr/local/lib/python3.7/dist-packages (from scikit-learn->sklearn) (3.1.0)\n",
            "Requirement already satisfied: joblib>=0.11 in /usr/local/lib/python3.7/dist-packages (from scikit-learn->sklearn) (1.1.0)\n",
            "Requirement already satisfied: scipy>=1.1.0 in /usr/local/lib/python3.7/dist-packages (from scikit-learn->sklearn) (1.4.1)\n",
            "Requirement already satisfied: numpy>=1.14.6 in /usr/local/lib/python3.7/dist-packages (from scikit-learn->sklearn) (1.19.5)\n"
          ]
        }
      ],
      "source": [
        "# This cell connects to google drive, authenticates connection, and iterates over file list displaying each file's title and ID.\n",
        "# it also imports and installs all the necessary libraries\n",
        "!pip install -U -q PyDrive\n",
        "!pip install -U -q wordcloud\n",
        "!pip install -U -q bokeh\n",
        "!pip install textblob\n",
        "!pip install sklearn\n",
        "\n",
        "import pandas as pd\n",
        "import numpy as np\n",
        "import re\n",
        "import matplotlib.pyplot as plt\n",
        "import seaborn as sns\n",
        "\n",
        "from bs4 import BeautifulSoup\n",
        "\n",
        "from wordcloud import WordCloud\n",
        "from scipy.stats import hmean\n",
        "from scipy.stats import norm\n",
        "from pylab import *\n",
        "from bokeh.plotting import figure\n",
        "from bokeh.io import output_notebook, show\n",
        "from bokeh.models import LinearColorMapper\n",
        "from bokeh.models import HoverTool\n",
        "\n",
        "from sklearn.feature_extraction.text import TfidfVectorizer\n",
        "from sklearn.feature_extraction.text import CountVectorizer\n",
        "from sklearn.linear_model import LogisticRegression\n",
        "from sklearn.pipeline import Pipeline\n",
        "\n",
        "from textblob import TextBlob\n",
        "from sklearn.model_selection import train_test_split\n",
        "from sklearn.metrics import accuracy_score\n",
        "from sklearn.metrics import classification_report, confusion_matrix\n",
        "from sklearn.pipeline import Pipeline\n",
        "from sklearn.metrics import accuracy_score\n",
        "\n",
        "from time import time\n",
        "\n",
        "  "
      ]
    },
    {
      "cell_type": "code",
      "source": [
        "from google.colab import drive\n",
        "drive.mount('/content/drive/')"
      ],
      "metadata": {
        "colab": {
          "base_uri": "https://localhost:8080/"
        },
        "id": "ARNrSNTm0n1x",
        "outputId": "669d0966-edcc-4bfb-96fc-86dcf8aeeac2"
      },
      "execution_count": 2,
      "outputs": [
        {
          "output_type": "stream",
          "name": "stdout",
          "text": [
            "Mounted at /content/drive/\n"
          ]
        }
      ]
    },
    {
      "cell_type": "code",
      "source": [
        "%cd /content/drive/My Drive/Colab Notebooks/"
      ],
      "metadata": {
        "colab": {
          "base_uri": "https://localhost:8080/"
        },
        "id": "09i0qcg70n4e",
        "outputId": "26db006f-3181-47e8-f5a2-2c6e9c0fef20"
      },
      "execution_count": 3,
      "outputs": [
        {
          "output_type": "stream",
          "name": "stdout",
          "text": [
            "/content/drive/My Drive/Colab Notebooks\n"
          ]
        }
      ]
    },
    {
      "cell_type": "code",
      "source": [
        "# upload file into pandas dataframe and drop unnecessary columns and neutral rows\n",
        "\n",
        "# Using columns 1,2 because col 0 is the number of the row, could be changed if the row number is removed from the csv file.\n",
        "df_clean = pd.read_csv('Dataset_For_Project/clean_Tweets_sentiment140.csv', usecols = [1,2], encoding='latin-1')\n",
        "df_clean.head()"
      ],
      "metadata": {
        "colab": {
          "base_uri": "https://localhost:8080/",
          "height": 206
        },
        "id": "Oa4Uwg5B0n69",
        "outputId": "ff3151b5-42f0-4cf1-d1bb-d30984daf468"
      },
      "execution_count": 7,
      "outputs": [
        {
          "output_type": "execute_result",
          "data": {
            "text/html": [
              "\n",
              "  <div id=\"df-154d6a83-9788-45a3-bacb-6ad1371bf041\">\n",
              "    <div class=\"colab-df-container\">\n",
              "      <div>\n",
              "<style scoped>\n",
              "    .dataframe tbody tr th:only-of-type {\n",
              "        vertical-align: middle;\n",
              "    }\n",
              "\n",
              "    .dataframe tbody tr th {\n",
              "        vertical-align: top;\n",
              "    }\n",
              "\n",
              "    .dataframe thead th {\n",
              "        text-align: right;\n",
              "    }\n",
              "</style>\n",
              "<table border=\"1\" class=\"dataframe\">\n",
              "  <thead>\n",
              "    <tr style=\"text-align: right;\">\n",
              "      <th></th>\n",
              "      <th>text</th>\n",
              "      <th>target</th>\n",
              "    </tr>\n",
              "  </thead>\n",
              "  <tbody>\n",
              "    <tr>\n",
              "      <th>0</th>\n",
              "      <td>- aww, that's a bummer.  you shoulda got dav...</td>\n",
              "      <td>0</td>\n",
              "    </tr>\n",
              "    <tr>\n",
              "      <th>1</th>\n",
              "      <td>is upset that he can't update his facebook by ...</td>\n",
              "      <td>0</td>\n",
              "    </tr>\n",
              "    <tr>\n",
              "      <th>2</th>\n",
              "      <td>i dived many times for the ball. managed to s...</td>\n",
              "      <td>0</td>\n",
              "    </tr>\n",
              "    <tr>\n",
              "      <th>3</th>\n",
              "      <td>my whole body feels itchy and like its on fire</td>\n",
              "      <td>0</td>\n",
              "    </tr>\n",
              "    <tr>\n",
              "      <th>4</th>\n",
              "      <td>no, it's not behaving at all. i'm mad. why am...</td>\n",
              "      <td>0</td>\n",
              "    </tr>\n",
              "  </tbody>\n",
              "</table>\n",
              "</div>\n",
              "      <button class=\"colab-df-convert\" onclick=\"convertToInteractive('df-154d6a83-9788-45a3-bacb-6ad1371bf041')\"\n",
              "              title=\"Convert this dataframe to an interactive table.\"\n",
              "              style=\"display:none;\">\n",
              "        \n",
              "  <svg xmlns=\"http://www.w3.org/2000/svg\" height=\"24px\"viewBox=\"0 0 24 24\"\n",
              "       width=\"24px\">\n",
              "    <path d=\"M0 0h24v24H0V0z\" fill=\"none\"/>\n",
              "    <path d=\"M18.56 5.44l.94 2.06.94-2.06 2.06-.94-2.06-.94-.94-2.06-.94 2.06-2.06.94zm-11 1L8.5 8.5l.94-2.06 2.06-.94-2.06-.94L8.5 2.5l-.94 2.06-2.06.94zm10 10l.94 2.06.94-2.06 2.06-.94-2.06-.94-.94-2.06-.94 2.06-2.06.94z\"/><path d=\"M17.41 7.96l-1.37-1.37c-.4-.4-.92-.59-1.43-.59-.52 0-1.04.2-1.43.59L10.3 9.45l-7.72 7.72c-.78.78-.78 2.05 0 2.83L4 21.41c.39.39.9.59 1.41.59.51 0 1.02-.2 1.41-.59l7.78-7.78 2.81-2.81c.8-.78.8-2.07 0-2.86zM5.41 20L4 18.59l7.72-7.72 1.47 1.35L5.41 20z\"/>\n",
              "  </svg>\n",
              "      </button>\n",
              "      \n",
              "  <style>\n",
              "    .colab-df-container {\n",
              "      display:flex;\n",
              "      flex-wrap:wrap;\n",
              "      gap: 12px;\n",
              "    }\n",
              "\n",
              "    .colab-df-convert {\n",
              "      background-color: #E8F0FE;\n",
              "      border: none;\n",
              "      border-radius: 50%;\n",
              "      cursor: pointer;\n",
              "      display: none;\n",
              "      fill: #1967D2;\n",
              "      height: 32px;\n",
              "      padding: 0 0 0 0;\n",
              "      width: 32px;\n",
              "    }\n",
              "\n",
              "    .colab-df-convert:hover {\n",
              "      background-color: #E2EBFA;\n",
              "      box-shadow: 0px 1px 2px rgba(60, 64, 67, 0.3), 0px 1px 3px 1px rgba(60, 64, 67, 0.15);\n",
              "      fill: #174EA6;\n",
              "    }\n",
              "\n",
              "    [theme=dark] .colab-df-convert {\n",
              "      background-color: #3B4455;\n",
              "      fill: #D2E3FC;\n",
              "    }\n",
              "\n",
              "    [theme=dark] .colab-df-convert:hover {\n",
              "      background-color: #434B5C;\n",
              "      box-shadow: 0px 1px 3px 1px rgba(0, 0, 0, 0.15);\n",
              "      filter: drop-shadow(0px 1px 2px rgba(0, 0, 0, 0.3));\n",
              "      fill: #FFFFFF;\n",
              "    }\n",
              "  </style>\n",
              "\n",
              "      <script>\n",
              "        const buttonEl =\n",
              "          document.querySelector('#df-154d6a83-9788-45a3-bacb-6ad1371bf041 button.colab-df-convert');\n",
              "        buttonEl.style.display =\n",
              "          google.colab.kernel.accessAllowed ? 'block' : 'none';\n",
              "\n",
              "        async function convertToInteractive(key) {\n",
              "          const element = document.querySelector('#df-154d6a83-9788-45a3-bacb-6ad1371bf041');\n",
              "          const dataTable =\n",
              "            await google.colab.kernel.invokeFunction('convertToInteractive',\n",
              "                                                     [key], {});\n",
              "          if (!dataTable) return;\n",
              "\n",
              "          const docLinkHtml = 'Like what you see? Visit the ' +\n",
              "            '<a target=\"_blank\" href=https://colab.research.google.com/notebooks/data_table.ipynb>data table notebook</a>'\n",
              "            + ' to learn more about interactive tables.';\n",
              "          element.innerHTML = '';\n",
              "          dataTable['output_type'] = 'display_data';\n",
              "          await google.colab.output.renderOutput(dataTable, element);\n",
              "          const docLink = document.createElement('div');\n",
              "          docLink.innerHTML = docLinkHtml;\n",
              "          element.appendChild(docLink);\n",
              "        }\n",
              "      </script>\n",
              "    </div>\n",
              "  </div>\n",
              "  "
            ],
            "text/plain": [
              "                                                text  target\n",
              "0    - aww, that's a bummer.  you shoulda got dav...       0\n",
              "1  is upset that he can't update his facebook by ...       0\n",
              "2   i dived many times for the ball. managed to s...       0\n",
              "3    my whole body feels itchy and like its on fire        0\n",
              "4   no, it's not behaving at all. i'm mad. why am...       0"
            ]
          },
          "metadata": {},
          "execution_count": 7
        }
      ]
    },
    {
      "cell_type": "code",
      "source": [
        "from sklearn.model_selection import train_test_split\n",
        "train, test = train_test_split(df_clean)"
      ],
      "metadata": {
        "id": "cokLIUDQ2May"
      },
      "execution_count": 8,
      "outputs": []
    },
    {
      "cell_type": "code",
      "source": [
        "print(train.shape)\n",
        "#print(test.shape)"
      ],
      "metadata": {
        "colab": {
          "base_uri": "https://localhost:8080/"
        },
        "id": "cGXKtEPGHgwb",
        "outputId": "4a67ccff-0e1e-4df1-f0fe-c7408e565ee1"
      },
      "execution_count": 9,
      "outputs": [
        {
          "output_type": "stream",
          "name": "stdout",
          "text": [
            "(1200000, 2)\n"
          ]
        }
      ]
    },
    {
      "cell_type": "code",
      "source": [
        "from sklearn.preprocessing import LabelEncoder\n",
        "labelencoder = LabelEncoder()\n",
        "train['target'] = labelencoder.fit_transform(train['target'])\n",
        "test['target'] = labelencoder.fit_transform(test['target'])"
      ],
      "metadata": {
        "id": "WQvjatYf2MeH"
      },
      "execution_count": 10,
      "outputs": []
    },
    {
      "cell_type": "markdown",
      "source": [
        "# **Word Embedding Techniques**"
      ],
      "metadata": {
        "id": "ZgZp5o3KFPXK"
      }
    },
    {
      "cell_type": "code",
      "source": [
        "# 1 Bag of words\n",
        "from sklearn.feature_extraction.text import CountVectorizer\n",
        "cv = CountVectorizer(binary=True)\n",
        "cv.fit(train)\n",
        "X_train_bow = cv.fit_transform(train['text'])\n",
        "X_test_bow = train['target']\n",
        "Y_train_bow = cv.transform(test['text'])\n",
        "Y_test = test['target']"
      ],
      "metadata": {
        "id": "Oq_p7V1V0n9o"
      },
      "execution_count": 11,
      "outputs": []
    },
    {
      "cell_type": "code",
      "source": [
        "# 2 TF-IDF\n",
        "from sklearn.feature_extraction.text import TfidfVectorizer\n",
        "vectorizer = TfidfVectorizer(norm = None)\n",
        "vectorizer.fit(train)\n",
        "X_train_tfidf = vectorizer.fit_transform(train['text'])\n",
        "X_test_tfidf = train['target']\n",
        "Y_train_tdidf =vectorizer.transform(test['text'])"
      ],
      "metadata": {
        "id": "kCPiCsvR0oAs"
      },
      "execution_count": 12,
      "outputs": []
    },
    {
      "cell_type": "code",
      "source": [
        "# 3 Hashing\n",
        "from sklearn.feature_extraction.text import HashingVectorizer\n",
        "hv = HashingVectorizer()\n",
        "hv.fit(train)\n",
        "X_train_hash = hv.fit_transform(train['text'])\n",
        "X_test_hash = train['target']\n",
        "Y_train_hash = hv.transform(test['text'])"
      ],
      "metadata": {
        "id": "WAbaB53L0oDR"
      },
      "execution_count": 13,
      "outputs": []
    },
    {
      "cell_type": "markdown",
      "source": [
        "# **Accuracy calculation of various models using various word embedding techniques**"
      ],
      "metadata": {
        "id": "QL-FO7q6FchT"
      }
    },
    {
      "cell_type": "code",
      "source": [
        "from sklearn.model_selection import cross_val_score\n"
      ],
      "metadata": {
        "id": "9_cyrBiD45T7"
      },
      "execution_count": 14,
      "outputs": []
    },
    {
      "cell_type": "code",
      "source": [
        "# Rigde with bag of word\n",
        "from sklearn import linear_model\n",
        "alpha = [80.0, 90.0, 100.0, 110.0, 120.0]\n",
        "for a in alpha:\n",
        "    ridge = linear_model.RidgeClassifier(a)\n",
        "    scores = cross_val_score(ridge, X_train_bow, X_test_bow, cv=5, scoring='f1')\n",
        "    print(\"alpha: \",a)\n",
        "    print(scores)\n",
        "    print(np.mean(scores))\n",
        "    print('\\n')"
      ],
      "metadata": {
        "colab": {
          "base_uri": "https://localhost:8080/"
        },
        "id": "DjcsNgj30oFb",
        "outputId": "ade6bc27-648b-49cf-a582-5da70b5f55df"
      },
      "execution_count": 15,
      "outputs": [
        {
          "output_type": "stream",
          "name": "stdout",
          "text": [
            "alpha:  80.0\n",
            "[0.80025388 0.80168385 0.8002016  0.80060323 0.79847538]\n",
            "0.8002435879680988\n",
            "\n",
            "\n",
            "alpha:  90.0\n",
            "[0.80009763 0.80135464 0.79997561 0.8003414  0.79817805]\n",
            "0.7999894667801588\n",
            "\n",
            "\n",
            "alpha:  100.0\n",
            "[0.79983243 0.80120631 0.79966186 0.79996261 0.79795207]\n",
            "0.7997230591209733\n",
            "\n",
            "\n",
            "alpha:  110.0\n",
            "[0.79967628 0.80089684 0.79940346 0.79956763 0.7977439 ]\n",
            "0.7994576227739854\n",
            "\n",
            "\n",
            "alpha:  120.0\n",
            "[0.79942259 0.80062991 0.79908987 0.7994165  0.79758777]\n",
            "0.7992293301481252\n",
            "\n",
            "\n"
          ]
        }
      ]
    },
    {
      "cell_type": "code",
      "source": [
        "# MultinomialNB with bag of word\n",
        "from sklearn.naive_bayes import MultinomialNB\n",
        "alpha = [1e-10, 1e-5, 0.1, 1.0, 2.0, 5.0]\n",
        "for a in alpha:\n",
        "    mnb = MultinomialNB()\n",
        "    scores = cross_val_score(mnb, X_train_bow, X_test_bow, cv=5, scoring='f1')\n",
        "    print('alpha: ', a)\n",
        "    print(scores)\n",
        "    print(np.mean(scores))\n",
        "    print('\\n')"
      ],
      "metadata": {
        "colab": {
          "base_uri": "https://localhost:8080/"
        },
        "id": "D6EGhvYm0oIF",
        "outputId": "fc940475-cf73-4d6d-ca1d-8906dc11d7d5"
      },
      "execution_count": 16,
      "outputs": [
        {
          "output_type": "stream",
          "name": "stdout",
          "text": [
            "alpha:  1e-10\n",
            "[0.77892281 0.77858802 0.77750551 0.77912178 0.77717271]\n",
            "0.7782621670515166\n",
            "\n",
            "\n",
            "alpha:  1e-05\n",
            "[0.77892281 0.77858802 0.77750551 0.77912178 0.77717271]\n",
            "0.7782621670515166\n",
            "\n",
            "\n",
            "alpha:  0.1\n",
            "[0.77892281 0.77858802 0.77750551 0.77912178 0.77717271]\n",
            "0.7782621670515166\n",
            "\n",
            "\n",
            "alpha:  1.0\n",
            "[0.77892281 0.77858802 0.77750551 0.77912178 0.77717271]\n",
            "0.7782621670515166\n",
            "\n",
            "\n",
            "alpha:  2.0\n",
            "[0.77892281 0.77858802 0.77750551 0.77912178 0.77717271]\n",
            "0.7782621670515166\n",
            "\n",
            "\n",
            "alpha:  5.0\n",
            "[0.77892281 0.77858802 0.77750551 0.77912178 0.77717271]\n",
            "0.7782621670515166\n",
            "\n",
            "\n"
          ]
        }
      ]
    },
    {
      "cell_type": "code",
      "source": [
        "# Rigde with TF-IDF\n",
        "alpha = [500.0, 1500.0, 2500.0, 3000.0]\n",
        "for a in alpha:\n",
        "    ridge = linear_model.RidgeClassifier(a)\n",
        "    scores = cross_val_score(ridge, X_train_tfidf, X_test_tfidf, cv=5, scoring='f1')\n",
        "    print(\"alpha: \",a)\n",
        "    print(scores)\n",
        "    print(np.mean(scores))\n",
        "    print('\\n')"
      ],
      "metadata": {
        "colab": {
          "base_uri": "https://localhost:8080/"
        },
        "id": "35I6JMNk0oKw",
        "outputId": "cb4bba44-72e7-4e45-a2b1-62c0fb67d588"
      },
      "execution_count": 17,
      "outputs": [
        {
          "output_type": "stream",
          "name": "stdout",
          "text": [
            "alpha:  500.0\n",
            "[0.79614921 0.79736204 0.79615909 0.79613174 0.79471357]\n",
            "0.7961031288602974\n",
            "\n",
            "\n",
            "alpha:  1500.0\n",
            "[0.8000506  0.80084078 0.79990873 0.79986958 0.79824644]\n",
            "0.7997832270964609\n",
            "\n",
            "\n",
            "alpha:  2500.0\n",
            "[0.80075641 0.80167166 0.80088777 0.80070532 0.79900585]\n",
            "0.8006054026692022\n",
            "\n",
            "\n",
            "alpha:  3000.0\n",
            "[0.80107525 0.80180331 0.80116764 0.80081754 0.79938248]\n",
            "0.8008492425673233\n",
            "\n",
            "\n"
          ]
        }
      ]
    },
    {
      "cell_type": "code",
      "source": [
        "# MultinomialNB with TF-IDF\n",
        "alpha = [175.0, 200.0, 225.0, 250.0, 300.0]\n",
        "for a in alpha:\n",
        "    mnb = MultinomialNB()\n",
        "    scores = cross_val_score(mnb, X_train_tfidf, X_test_tfidf, cv=5, scoring='f1')\n",
        "    print('alpha: ', a)\n",
        "    print(scores)\n",
        "    print(np.mean(scores))\n",
        "    print('\\n')"
      ],
      "metadata": {
        "colab": {
          "base_uri": "https://localhost:8080/"
        },
        "id": "uJTQ9dJi0oNc",
        "outputId": "97055f7a-bdb7-4a7c-e459-cb7646f9092f"
      },
      "execution_count": 18,
      "outputs": [
        {
          "output_type": "stream",
          "name": "stdout",
          "text": [
            "alpha:  175.0\n",
            "[0.75699284 0.7556589  0.75609052 0.75776529 0.75644055]\n",
            "0.756589619892641\n",
            "\n",
            "\n",
            "alpha:  200.0\n",
            "[0.75699284 0.7556589  0.75609052 0.75776529 0.75644055]\n",
            "0.756589619892641\n",
            "\n",
            "\n",
            "alpha:  225.0\n",
            "[0.75699284 0.7556589  0.75609052 0.75776529 0.75644055]\n",
            "0.756589619892641\n",
            "\n",
            "\n",
            "alpha:  250.0\n",
            "[0.75699284 0.7556589  0.75609052 0.75776529 0.75644055]\n",
            "0.756589619892641\n",
            "\n",
            "\n",
            "alpha:  300.0\n",
            "[0.75699284 0.7556589  0.75609052 0.75776529 0.75644055]\n",
            "0.756589619892641\n",
            "\n",
            "\n"
          ]
        }
      ]
    },
    {
      "cell_type": "code",
      "source": [
        "# Rigde with Hash\n",
        "alpha = [1.1, 1.2, 1.3, 1.4, 1.5, 2.0]\n",
        "for a in alpha:\n",
        "    ridge = linear_model.RidgeClassifier(a)\n",
        "    scores = cross_val_score(ridge, X_train_hash, X_test_hash, cv=5, scoring='f1')\n",
        "    print(\"alpha: \",a)\n",
        "    print(scores)\n",
        "    print(np.mean(scores))\n",
        "    print('\\n')"
      ],
      "metadata": {
        "colab": {
          "base_uri": "https://localhost:8080/"
        },
        "id": "dIZMnx_J0oQg",
        "outputId": "02a94266-ea38-4172-c2b7-ea15bf735f18"
      },
      "execution_count": 19,
      "outputs": [
        {
          "output_type": "stream",
          "name": "stdout",
          "text": [
            "alpha:  1.1\n",
            "[0.79910223 0.79976549 0.7991521  0.79895794 0.79802931]\n",
            "0.7990014143632252\n",
            "\n",
            "\n",
            "alpha:  1.2\n",
            "[0.79917157 0.79986788 0.79929575 0.79910151 0.79809049]\n",
            "0.7991054387633801\n",
            "\n",
            "\n",
            "alpha:  1.3\n",
            "[0.79919477 0.79998844 0.79930735 0.79918246 0.79831357]\n",
            "0.7991973158922334\n",
            "\n",
            "\n",
            "alpha:  1.4\n",
            "[0.79922947 0.80002147 0.79934857 0.79923529 0.79822944]\n",
            "0.7992128488274464\n",
            "\n",
            "\n",
            "alpha:  1.5\n",
            "[0.79927406 0.80016512 0.79931396 0.7992502  0.79831874]\n",
            "0.7992644151934546\n",
            "\n",
            "\n",
            "alpha:  2.0\n",
            "[0.79935334 0.80032678 0.7994692  0.79933295 0.79841633]\n",
            "0.7993797187351777\n",
            "\n",
            "\n"
          ]
        }
      ]
    },
    {
      "cell_type": "markdown",
      "source": [
        "## **Accuracy calculation**"
      ],
      "metadata": {
        "id": "Q4dhXN-cF-aL"
      }
    },
    {
      "cell_type": "code",
      "source": [
        "from sklearn.metrics import accuracy_score\n",
        "ridge = linear_model.RidgeClassifier(1.2)\n",
        "ridge.fit(X_train_hash, X_test_hash)\n",
        "test['sentiment_pred'] = ridge.predict(Y_train_hash)\n",
        "y_true = test['target']\n",
        "y_pred = test['sentiment_pred']\n",
        "accuracy_score(y_true, y_pred)*100"
      ],
      "metadata": {
        "colab": {
          "base_uri": "https://localhost:8080/"
        },
        "id": "FE6KyuDk0oVP",
        "outputId": "26bd6bd7-40df-409a-b268-2f4b76fd1891"
      },
      "execution_count": 20,
      "outputs": [
        {
          "output_type": "execute_result",
          "data": {
            "text/plain": [
              "79.6805"
            ]
          },
          "metadata": {},
          "execution_count": 20
        }
      ]
    },
    {
      "cell_type": "code",
      "source": [
        "from sklearn.metrics import classification_report,confusion_matrix \n",
        "print(classification_report(y_true, y_pred, target_names = ['Negative','Positive']))"
      ],
      "metadata": {
        "colab": {
          "base_uri": "https://localhost:8080/"
        },
        "id": "JYgHWTcg0oXu",
        "outputId": "22c88552-217e-4488-9009-b7c66c01b535"
      },
      "execution_count": 21,
      "outputs": [
        {
          "output_type": "stream",
          "name": "stdout",
          "text": [
            "              precision    recall  f1-score   support\n",
            "\n",
            "    Negative       0.80      0.79      0.79    199954\n",
            "    Positive       0.79      0.81      0.80    200046\n",
            "\n",
            "    accuracy                           0.80    400000\n",
            "   macro avg       0.80      0.80      0.80    400000\n",
            "weighted avg       0.80      0.80      0.80    400000\n",
            "\n"
          ]
        }
      ]
    },
    {
      "cell_type": "markdown",
      "source": [
        "## **Confusion matrix**"
      ],
      "metadata": {
        "id": "jc9pPFf8GGs5"
      }
    },
    {
      "cell_type": "code",
      "source": [
        "import seaborn as sns\n",
        "import matplotlib.pyplot as plt\n",
        "cm = confusion_matrix(y_true, y_pred)\n",
        "plt.figure(figsize = (8,5))\n",
        "sns.heatmap(cm,cmap= \"Blues\", \n",
        "            linecolor = 'black', \n",
        "            linewidth = 1, \n",
        "            annot = True, \n",
        "            fmt='', \n",
        "            xticklabels = ['Negative','Positive'], \n",
        "            yticklabels = ['Negative','Positive'])\n",
        "plt.xlabel(\"Predicted\")\n",
        "plt.ylabel(\"Actual\")"
      ],
      "metadata": {
        "colab": {
          "base_uri": "https://localhost:8080/",
          "height": 352
        },
        "id": "YYlMBRFM0oaU",
        "outputId": "4ffe2b91-d544-4b63-9703-683d29c35fef"
      },
      "execution_count": 22,
      "outputs": [
        {
          "output_type": "execute_result",
          "data": {
            "text/plain": [
              "Text(51.0, 0.5, 'Actual')"
            ]
          },
          "metadata": {},
          "execution_count": 22
        },
        {
          "output_type": "display_data",
          "data": {
            "image/png": "[encoded data removed]",
            "text/plain": [
              "<Figure size 576x360 with 2 Axes>"
            ]
          },
          "metadata": {
            "needs_background": "light"
          }
        }
      ]
    },
    {
      "cell_type": "code",
      "source": [
        ""
      ],
      "metadata": {
        "id": "FhnCuwSO0odg"
      },
      "execution_count": 22,
      "outputs": []
    },
    {
      "cell_type": "code",
      "source": [
        ""
      ],
      "metadata": {
        "id": "9EKJcKU80of7"
      },
      "execution_count": 22,
      "outputs": []
    },
    {
      "cell_type": "code",
      "source": [
        ""
      ],
      "metadata": {
        "id": "pp0CQP460oil"
      },
      "execution_count": 22,
      "outputs": []
    },
    {
      "cell_type": "code",
      "source": [
        ""
      ],
      "metadata": {
        "id": "JZOAVUVB0omA"
      },
      "execution_count": 22,
      "outputs": []
    }
  ]
}